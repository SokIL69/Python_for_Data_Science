{
 "cells": [
  {
   "cell_type": "markdown",
   "metadata": {},
   "source": [
    "## Курс - Библиотеки Python для Data Science: Numpy, Matplotlib, Scikit-learn\n",
    "### Урок 2.  Практическое задание 1 (2)\n",
    "Видеоурок. Вычисления с помощью Numpy. Работа с данными в Pandas."
   ]
  },
  {
   "cell_type": "markdown",
   "metadata": {},
   "source": [
    " "
   ]
  },
  {
   "cell_type": "markdown",
   "metadata": {},
   "source": [
    "## Тема \"Вычисления с помощью Numpy\"\n",
    "### Задание 1\n",
    "\n",
    "Импортируйте библиотеку Numpy и дайте ей псевдоним np."
   ]
  },
  {
   "cell_type": "code",
   "execution_count": 145,
   "metadata": {},
   "outputs": [],
   "source": [
    "import numpy as np"
   ]
  },
  {
   "cell_type": "markdown",
   "metadata": {},
   "source": [
    "Создайте массив Numpy под названием a размером '5x2', то есть состоящий из 5 строк и 2 столбцов.\n",
    "\n",
    "Первый столбец должен содержать числа '1, 2, 3, 3, 1,' а второй - числа '6, 8, 11, 10, 7'.\n",
    "\n",
    "Будем считать, что каждый столбец - это признак, а строка - наблюдение."
   ]
  },
  {
   "cell_type": "code",
   "execution_count": 146,
   "metadata": {},
   "outputs": [
    {
     "name": "stdout",
     "output_type": "stream",
     "text": [
      "\n",
      "Размерность а: 2\n",
      "Форма а: (5, 2)\n",
      "Количество элементов а: 10\n"
     ]
    },
    {
     "data": {
      "text/plain": [
       "array([[ 1,  6],\n",
       "       [ 2,  8],\n",
       "       [ 3, 11],\n",
       "       [ 3, 10],\n",
       "       [ 1,  7]])"
      ]
     },
     "execution_count": 146,
     "metadata": {},
     "output_type": "execute_result"
    }
   ],
   "source": [
    "# Создаём массив a размерности 5x2\n",
    "a = np.array([[1, 6],\n",
    "              [2, 8],\n",
    "              [3, 11],\n",
    "              [3, 10],\n",
    "              [1, 7]])\n",
    "\n",
    "print(\"\\nРазмерность а: {}\".format(a.ndim))\n",
    "print(\"Форма а: {}\".format(a.shape))\n",
    "print(\"Количество элементов а: {}\".format(a.size))\n",
    "a"
   ]
  },
  {
   "cell_type": "markdown",
   "metadata": {},
   "source": [
    "Затем найдите среднее значение по каждому признаку, используя метод mean массива Numpy.\n",
    "\n",
    "Результат запишите в массив mean_a, в нем должно быть 2 элемента."
   ]
  },
  {
   "cell_type": "code",
   "execution_count": 116,
   "metadata": {},
   "outputs": [
    {
     "name": "stdout",
     "output_type": "stream",
     "text": [
      "\n",
      "Среднее значение по признакам (массив mean_a): [2.  8.4]\n"
     ]
    }
   ],
   "source": [
    "# Находим среднее значение по каждому признаку\n",
    "mean_a = a.mean(axis=0)\n",
    "print(\"\\nСреднее значение по признакам (массив mean_a): {}\".format(mean_a))\n",
    "#mean_a"
   ]
  },
  {
   "cell_type": "markdown",
   "metadata": {},
   "source": [
    "### Задание 2\n",
    "\n",
    "Вычислите массив a_centered, отняв от значений массива “а” средние значения соответствующих признаков,\n",
    "содержащиеся в массиве mean_a.\n",
    "\n",
    "Вычисление должно производиться в одно действие.\n",
    "\n",
    "Получившийся массив должен иметь размер 5x2."
   ]
  },
  {
   "cell_type": "code",
   "execution_count": 41,
   "metadata": {},
   "outputs": [
    {
     "data": {
      "text/plain": [
       "array([[-1. , -2.4],\n",
       "       [ 0. , -0.4],\n",
       "       [ 1. ,  2.6],\n",
       "       [ 1. ,  1.6],\n",
       "       [-1. , -1.4]])"
      ]
     },
     "execution_count": 41,
     "metadata": {},
     "output_type": "execute_result"
    }
   ],
   "source": [
    "# Вычисляем массив a_centered\n",
    "a_centered = a - mean_a # используем Broadcasting\n",
    "a_centered"
   ]
  },
  {
   "cell_type": "markdown",
   "metadata": {},
   "source": [
    "### Задание 3\n",
    "\n",
    "Найдите скалярное произведение столбцов массива a_centered.\n",
    "\n",
    "В результате должна получиться величина a_centered_sp.\n",
    "\n",
    "Затем поделите a_centered_sp на N-1, где N - число наблюдений."
   ]
  },
  {
   "cell_type": "code",
   "execution_count": 142,
   "metadata": {},
   "outputs": [
    {
     "name": "stdout",
     "output_type": "stream",
     "text": [
      "\n",
      "Cкалярное произведение столбцов массива:\n",
      "a_centered_sp = 8.0\n",
      "\n",
      "Число наблюдений: 5\n",
      "\n",
      "Ковариация двух признаков, содержащихся в массиве а:\n",
      "cv_a = 2.0\n"
     ]
    }
   ],
   "source": [
    "# a_centered[0, :] или a_centered[0] # 1-я строка\n",
    "\n",
    "col_1 = a_centered[:,0] # 1-й столбец массива a_centered\n",
    "col_2 = a_centered[:,1] # 2-й столбец массива a_centered\n",
    "\n",
    "# Находим скалярное произведение столбцов массива a_centered.\n",
    "a_centered_sp = np.dot(col_1, col_2)\n",
    "print(\"\\nCкалярное произведение столбцов массива:\\na_centered_sp = {}\".format(a_centered_sp))\n",
    "\n",
    "# Делим a_centered_sp на N-1, где N - число наблюдений.\n",
    "print(\"\\nЧисло наблюдений: {}\".format(a.shape[0]))\n",
    "\n",
    "# Находим ковариацию двух признаков, содержащихся в массиве а\n",
    "cv_a = a_centered_sp/(a.shape[0] - 1)\n",
    "print(\"\\nКовариация двух признаков, содержащихся в массиве а:\\ncv_a = {}\".format(cv_a)) "
   ]
  },
  {
   "cell_type": "markdown",
   "metadata": {},
   "source": [
    "### Задание 4**\n",
    "\n",
    "Число, которое мы получили в конце задания 3 является ковариацией двух признаков, содержащихся в массиве “а”.\n",
    "\n",
    "В задании 3 мы делили сумму произведений центрированных признаков на N-1, а не на N, поэтому полученная нами величина является несмещенной оценкой ковариации.\n",
    "\n",
    "В этом задании проверьте получившееся число, вычислив ковариацию еще одним способом - с помощью функции np.cov.\n",
    "\n",
    "В качестве аргумента m функция np.cov должна принимать транспонированный массив “a”.\n",
    "\n",
    "В получившейся ковариационной матрице (массив Numpy размером 2x2) искомое значение ковариации будет равно элементу в строке с индексом 0 и столбце с индексом 1."
   ]
  },
  {
   "cell_type": "code",
   "execution_count": 143,
   "metadata": {},
   "outputs": [
    {
     "name": "stdout",
     "output_type": "stream",
     "text": [
      "Проверка:\n",
      "\n",
      "Прямая матрица: \n",
      "[[ 1  6]\n",
      " [ 2  8]\n",
      " [ 3 11]\n",
      " [ 3 10]\n",
      " [ 1  7]]\n",
      "\n",
      "Транспонированная матрица: \n",
      "[[ 1  2  3  3  1]\n",
      " [ 6  8 11 10  7]]\n",
      "\n",
      "Ковариационная матрица: \n",
      "[[1.  2. ]\n",
      " [2.  4.3]]\n",
      "\n",
      "Искомое значение ковариации:\n",
      "cov[0][1] = 2.0\n",
      "\n",
      "Проверка: cv_a == cov[0][1]\n",
      "True\n"
     ]
    }
   ],
   "source": [
    "print(\"Проверка:\")\n",
    "\n",
    "# Прямая матрица\n",
    "print(\"\\nПрямая матрица: \\n{}\".format(a))\n",
    "\n",
    "# Транспонированная матрица\n",
    "at = a.transpose()\n",
    "print(\"\\nТранспонированная матрица: \\n{}\".format(at))\n",
    "\n",
    "# Ковариационная матрица\n",
    "cov = np.cov(at)\n",
    "print(\"\\nКовариационная матрица: \\n{}\".format(cov))\n",
    "\n",
    "# Искомое значение ковариации\n",
    "print(\"\\nИскомое значение ковариации:\\ncov[0][1] = {}\".format(cov[0][1]))\n",
    "\n",
    "print(\"\\nПроверка: cv_a == cov[0][1]\\n{}\".format(cv_a == cov[0][1]))"
   ]
  }
 ],
 "metadata": {
  "kernelspec": {
   "display_name": "Python 3",
   "language": "python",
   "name": "python3"
  },
  "language_info": {
   "codemirror_mode": {
    "name": "ipython",
    "version": 3
   },
   "file_extension": ".py",
   "mimetype": "text/x-python",
   "name": "python",
   "nbconvert_exporter": "python",
   "pygments_lexer": "ipython3",
   "version": "3.8.5"
  }
 },
 "nbformat": 4,
 "nbformat_minor": 4
}
